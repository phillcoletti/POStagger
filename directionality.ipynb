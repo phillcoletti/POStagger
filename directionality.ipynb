{
 "metadata": {
  "name": "directionality"
 },
 "nbformat": 3,
 "nbformat_minor": 0,
 "worksheets": [
  {
   "cells": [
    {
     "cell_type": "code",
     "collapsed": false,
     "input": [
      "import pandas as pd\n",
      "word_features = pd.DataFrame.from_csv('word_features.csv', index_col=False)"
     ],
     "language": "python",
     "metadata": {},
     "outputs": [],
     "prompt_number": 2
    },
    {
     "cell_type": "code",
     "collapsed": false,
     "input": [
      "to_feat = word_features[word_features['w_i'] == 'to']\n",
      "wnext = to_feat[to_feat['t_i+1'] == 'V']['w_i+1']\n",
      "values = wnext.value_counts()"
     ],
     "language": "python",
     "metadata": {},
     "outputs": [],
     "prompt_number": 8
    },
    {
     "cell_type": "code",
     "collapsed": false,
     "input": [
      "feature_name = 'w_i'\n",
      "words = word_features[word_features['w_i'].isin(values.index)]\n",
      "frequency = pd.crosstab(rows=words['t_i'], cols=words[feature_name]) #calculate frequency table for feature vs. t_i\n",
      "feature_sum = frequency.sum().astype(float)  #sum across all possible t_i's for a given feature value\n",
      "supported = feature_sum[(feature_sum >= 2)].index\n",
      "#    unsupported = feature_sum[(feature_sum < 2)].index  #Support Cutoff\n",
      "p = frequency / feature_sum    #normalize to become conditional probability of t_i (given feature value)"
     ],
     "language": "python",
     "metadata": {},
     "outputs": [],
     "prompt_number": 18
    },
    {
     "cell_type": "code",
     "collapsed": false,
     "input": [
      "sum(p.ix['V']*values) / values.sum()"
     ],
     "language": "python",
     "metadata": {},
     "outputs": [
      {
       "output_type": "pyout",
       "prompt_number": 23,
       "text": [
        "0.82571176928508949"
       ]
      }
     ],
     "prompt_number": 23
    },
    {
     "cell_type": "code",
     "collapsed": false,
     "input": [
      "values.index"
     ],
     "language": "python",
     "metadata": {},
     "outputs": [
      {
       "output_type": "pyout",
       "prompt_number": 26,
       "text": [
        "Index([be, do, make, ..., aim, scrub, exemplify], dtype=object)"
       ]
      }
     ],
     "prompt_number": 26
    },
    {
     "cell_type": "code",
     "collapsed": false,
     "input": [
      "feature_name = 'w_i'\n",
      "frequency = pd.crosstab(rows=word_features['t_i'], cols=word_features[feature_name]) #calculate frequency table for feature vs. t_i\n",
      "feature_sum = frequency.sum().astype(float)  #sum across all possible t_i's for a given feature value\n",
      "supported = feature_sum[(feature_sum >= 2)].index\n",
      "#    unsupported = feature_sum[(feature_sum < 2)].index  #Support Cutoff\n",
      "p = frequency / feature_sum    #normalize to become conditional probability of t_i (given feature value)\n",
      "p = p[supported]\n",
      "words = word_features[word_features['w_i'].isin(supported)]\n",
      "values = words['w_i'].value_counts()\n"
     ],
     "language": "python",
     "metadata": {},
     "outputs": [],
     "prompt_number": 30
    },
    {
     "cell_type": "code",
     "collapsed": false,
     "input": [
      "sum(p.max()*values / values.sum())"
     ],
     "language": "python",
     "metadata": {},
     "outputs": [
      {
       "output_type": "pyout",
       "prompt_number": 35,
       "text": [
        "0.94308134248090991"
       ]
      }
     ],
     "prompt_number": 35
    },
    {
     "cell_type": "code",
     "collapsed": false,
     "input": [
      "len(values)"
     ],
     "language": "python",
     "metadata": {},
     "outputs": [
      {
       "output_type": "pyout",
       "prompt_number": 40,
       "text": [
        "30457"
       ]
      }
     ],
     "prompt_number": 40
    },
    {
     "cell_type": "code",
     "collapsed": false,
     "input": [
      "import numpy as np\n",
      "import itertools\n",
      "def entropy(*X):\n",
      "    ent = np.sum(-p * np.log2(p) if p > 0 else 0 for p in\n",
      "        (np.mean(reduce(np.logical_and, (predictions == c for predictions, c in zip(X, classes))))\n",
      "            for classes in itertools.product(*[set(x) for x in X])))\n",
      "    return ent"
     ],
     "language": "python",
     "metadata": {},
     "outputs": [],
     "prompt_number": 45
    },
    {
     "cell_type": "code",
     "collapsed": false,
     "input": [
      "ent = 0\n",
      "for col in p.columns:\n",
      "    ent = ent + entropy(p[col])*values[col]\n",
      "ent = ent / values.sum()\n",
      "print ent"
     ],
     "language": "python",
     "metadata": {},
     "outputs": [
      {
       "output_type": "stream",
       "stream": "stdout",
       "text": [
        "0.387156656134\n"
       ]
      }
     ],
     "prompt_number": 65
    },
    {
     "cell_type": "code",
     "collapsed": false,
     "input": [
      "len(word_features['sentence_num'].unique())"
     ],
     "language": "python",
     "metadata": {},
     "outputs": [
      {
       "output_type": "pyout",
       "prompt_number": 71,
       "text": [
        "56910"
       ]
      }
     ],
     "prompt_number": 71
    },
    {
     "cell_type": "code",
     "collapsed": false,
     "input": [
      "prior_count = word_features['t_i'].value_counts()\n",
      "total_count = prior_count.sum()\n",
      "prior_prob = prior_count / float(total_count)"
     ],
     "language": "python",
     "metadata": {},
     "outputs": [],
     "prompt_number": 72
    },
    {
     "cell_type": "code",
     "collapsed": false,
     "input": [
      "prior_prob"
     ],
     "language": "python",
     "metadata": {},
     "outputs": [
      {
       "output_type": "pyout",
       "prompt_number": 73,
       "text": [
        "N      0.197963\n",
        "DET    0.117572\n",
        "P      0.105660\n",
        "V      0.075341\n",
        "ADJ    0.062051\n",
        "PRO    0.057503\n",
        ".      0.052684\n",
        "CNJ    0.051977\n",
        ",      0.050230\n",
        "ADV    0.037832\n",
        "NP     0.037188\n",
        "VN     0.025811\n",
        "VD     0.022566\n",
        "VG     0.015669\n",
        "NUM    0.014660\n",
        "TO     0.012925\n",
        "WH     0.012851\n",
        "MOD    0.011506\n",
        "``     0.007565\n",
        "''     0.007484\n",
        "VBZ    0.006442\n",
        "*      0.003973\n",
        "--     0.002947\n",
        "(      0.002091\n",
        ")      0.002068\n",
        "EX     0.001965\n",
        ":      0.001477\n",
        "FW     0.001058\n",
        "UH     0.000532\n",
        "'      0.000273\n",
        "NIL    0.000135\n",
        "dtype: float64"
       ]
      }
     ],
     "prompt_number": 73
    },
    {
     "cell_type": "code",
     "collapsed": false,
     "input": [],
     "language": "python",
     "metadata": {},
     "outputs": []
    }
   ],
   "metadata": {}
  }
 ]
}