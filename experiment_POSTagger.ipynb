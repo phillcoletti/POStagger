{
 "metadata": {
  "name": "experiment_POSTagger"
 },
 "nbformat": 3,
 "nbformat_minor": 0,
 "worksheets": [
  {
   "cells": [
    {
     "cell_type": "code",
     "collapsed": false,
     "input": [
      "from POSTagger import POSTagger\n",
      "tagger = POSTagger(simplify=True)\n",
      "tagger.train(support_cutoff=2)\n",
      "sentence = tagger.word_features[tagger.word_features['sentence_num'] == 10]\n",
      "sentence = sentence.reset_index()"
     ],
     "language": "python",
     "metadata": {},
     "outputs": []
    },
    {
     "cell_type": "code",
     "collapsed": false,
     "input": [
      "from POSTagger import POSTagger\n",
      "from test_pos import train_tagger, test_tagger, load_cache\n",
      "tagger = POSTagger(simplify=True)\n",
      "sentence = tagger.word_features[tagger.word_features['sentence_num'] == 10]\n",
      "sentence = sentence.reset_index()\n",
      "cache = load_cache(10)"
     ],
     "language": "python",
     "metadata": {},
     "outputs": []
    },
    {
     "cell_type": "code",
     "collapsed": false,
     "input": [
      "tagger.word_features['tag_prediction'] = None\n",
      "tags = tagger.getTagPredictionsL(sentence=sentence, cache=cache)\n",
      "print tagger.word_features\n",
      "print tagger.word_features.ix[sentence['index']]['tag_prediction']"
     ],
     "language": "python",
     "metadata": {},
     "outputs": []
    },
    {
     "cell_type": "code",
     "collapsed": false,
     "input": [
      "tagger.word_features['tag_predictions'] = None\n",
      "tagger.word_features.ix[sentence['index']]['tag_predictions'] = tags\n",
      "sentence['tag_predictions'] = tags"
     ],
     "language": "python",
     "metadata": {},
     "outputs": []
    },
    {
     "cell_type": "code",
     "collapsed": false,
     "input": [
      "sum(sentence['t_i'] == tags)\n"
     ],
     "language": "python",
     "metadata": {},
     "outputs": []
    },
    {
     "cell_type": "code",
     "collapsed": false,
     "input": [
      "for i in range(len(sentence)):\n",
      "    tagger.word_features.ix[sentence.ix[i]['index']]['tag_predictions'] = sentence.ix[i]['tag_predictions']\n",
      "print tagger.word_features.ix[sentence['index']]['tag_predictions']\n",
      "tagger.word_features"
     ],
     "language": "python",
     "metadata": {},
     "outputs": []
    },
    {
     "cell_type": "code",
     "collapsed": false,
     "input": [
      "import random"
     ],
     "language": "python",
     "metadata": {},
     "outputs": []
    },
    {
     "cell_type": "code",
     "collapsed": false,
     "input": [
      "N = 5\n",
      "sentence_nums = tagger.word_features['sentence_num'].unique()\n",
      "sample = random.sample(xrange(len(sentence_nums)), N)"
     ],
     "language": "python",
     "metadata": {},
     "outputs": []
    },
    {
     "cell_type": "code",
     "collapsed": false,
     "input": [
      "test_sentence_nums = list(sentence_nums[sample])\n",
      "print test_sentence_nums"
     ],
     "language": "python",
     "metadata": {},
     "outputs": []
    },
    {
     "cell_type": "code",
     "collapsed": false,
     "input": [
      "removeset = set(sample)\n",
      "train_sentence_nums = [v for i, v in enumerate(sentence_nums) if i not in sample] "
     ],
     "language": "python",
     "metadata": {},
     "outputs": []
    },
    {
     "cell_type": "code",
     "collapsed": false,
     "input": [
      "48442 in train_sentence_nums"
     ],
     "language": "python",
     "metadata": {},
     "outputs": []
    },
    {
     "cell_type": "code",
     "collapsed": false,
     "input": [
      "#Test the randEval method\n",
      "from POSTagger import POSTagger\n",
      "N = 2\n",
      "feature_set = ['t_i-1', 'w_i']\n",
      "support_cutoff = 2\n",
      "tagger = POSTagger(simplify=True, tag_cutoff=1)\n",
      "tagger.randEvalL(N, feature_set, support_cutoff)"
     ],
     "language": "python",
     "metadata": {},
     "outputs": [
      {
       "output_type": "stream",
       "stream": "stdout",
       "text": [
        "Training...\n",
        "Testing..."
       ]
      },
      {
       "output_type": "stream",
       "stream": "stdout",
       "text": [
        "\n",
        "Sentence 55468: 1.000000"
       ]
      },
      {
       "output_type": "stream",
       "stream": "stdout",
       "text": [
        "\n",
        "8.193674 s avg for 8 words\n",
        "Sentence 124: 0.857143"
       ]
      },
      {
       "output_type": "stream",
       "stream": "stdout",
       "text": [
        "\n",
        "5.617734 s avg for 21 words\n",
        "Total Accuracy on 2 sentences: 0.896552\n"
       ]
      }
     ],
     "prompt_number": 1
    },
    {
     "cell_type": "code",
     "collapsed": false,
     "input": [
      "#Figuring out how to encode sparse transitions\n",
      "import pandas as pd\n",
      "frequency = pd.crosstab(rows=tagger.word_features['t_i-1'], cols=tagger.word_features['t_i'])\n",
      "tag_set = {}\n",
      "for col in frequency.columns:\n",
      "    tags = frequency[col][frequency[col] != 0].index.values\n",
      "    tag_set[col] = tags\n",
      "for tag in tag_set:\n",
      "    print tag, len(tag_set[tag])"
     ],
     "language": "python",
     "metadata": {},
     "outputs": []
    },
    {
     "cell_type": "code",
     "collapsed": false,
     "input": [],
     "language": "python",
     "metadata": {},
     "outputs": []
    },
    {
     "cell_type": "code",
     "collapsed": false,
     "input": [],
     "language": "python",
     "metadata": {},
     "outputs": []
    }
   ],
   "metadata": {}
  }
 ]
}